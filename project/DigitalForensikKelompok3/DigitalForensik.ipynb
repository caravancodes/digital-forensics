{
 "cells": [
  {
   "cell_type": "code",
   "execution_count": 32,
   "metadata": {},
   "outputs": [],
   "source": [
    "import tkinter as tk"
   ]
  },
  {
   "cell_type": "code",
   "execution_count": 33,
   "metadata": {},
   "outputs": [],
   "source": [
    "import os"
   ]
  },
  {
   "cell_type": "code",
   "execution_count": 34,
   "metadata": {},
   "outputs": [],
   "source": [
    "from tkinter import  *"
   ]
  },
  {
   "cell_type": "code",
   "execution_count": 35,
   "metadata": {},
   "outputs": [],
   "source": [
    "import tkinter.messagebox"
   ]
  },
  {
   "cell_type": "code",
   "execution_count": 36,
   "metadata": {},
   "outputs": [],
   "source": [
    "from tkinter import PhotoImage"
   ]
  },
  {
   "cell_type": "code",
   "execution_count": 37,
   "metadata": {},
   "outputs": [],
   "source": [
    "from tkinter import filedialog"
   ]
  },
  {
   "cell_type": "code",
   "execution_count": 38,
   "metadata": {},
   "outputs": [
    {
     "data": {
      "text/plain": [
       "''"
      ]
     },
     "execution_count": 38,
     "metadata": {},
     "output_type": "execute_result"
    }
   ],
   "source": [
    "window=Tk()\n",
    "window.geometry(\"810x520\")\n",
    "window.config(bg=\"#FBE9C1\")\n",
    "photo = PhotoImage(file=\"asset/model.png\")\n",
    "seriall = PhotoImage(file=\"asset/serial.png\")\n",
    "pilih_folder = PhotoImage(file=\"asset/folder.png\")\n",
    "os_vir = PhotoImage(file=\"asset/os_vitsion.png\")\n",
    "manufaktur = PhotoImage(file=\"asset/Manufaktur.png\")\n",
    "exitbutton = PhotoImage (file =\"asset/exit.png\")\n",
    "aboutt= PhotoImage (file =\"asset/about.png\")\n",
    "backupbutton = PhotoImage (file =\"asset/backup.png\")\n",
    "backupcamera = PhotoImage (file =\"asset/backup_camera.png\")\n",
    "backup_devicee = PhotoImage (file =\"asset/backup_device.png\")\n",
    "backup_storagee = PhotoImage (file =\"asset/backup_storage.png\")\n",
    "backup_systemm = PhotoImage (file =\"asset/backup_system.png\")\n",
    "ikonbutton = PhotoImage (file =\"asset/ikon.png\")\n",
    "photo2 = PhotoImage(file=\"asset/button.png\")\n",
    "window.title(\"software digital forensik kelompok 3\")"
   ]
  },
  {
   "cell_type": "code",
   "execution_count": 39,
   "metadata": {},
   "outputs": [],
   "source": [
    "# setting switch state:\n",
    "btnState = False"
   ]
  },
  {
   "cell_type": "code",
   "execution_count": 40,
   "metadata": {},
   "outputs": [],
   "source": [
    "# setting switch function:\n",
    "\n",
    "class FolderSelect(Frame):\n",
    "    def __init__(self, parent=None, folderDescription=\"\", **kw):\n",
    "        Frame.__init__(self, master=parent, **kw)\n",
    "        self.folderPath = StringVar()\n",
    "        self.lblName = Label(self, text=folderDescription, bg=\"#FBE9C1\")\n",
    "        self.lblName.grid(pady=1, column=1)\n",
    "        self.entPath = Entry(self, textvariable=self.folderPath, width=43, font=(\"arial\", 13))\n",
    "        self.entPath.grid(row=0, column=1)\n",
    "        self.btnFind = tk.Button(self, text=\"Browse Folder\", border=0, bg=\"#FBE9C1\", image=pilih_folder,\n",
    "                                 command=self.setFolderPath, width=120)\n",
    "        self.btnFind.grid(row=0, column=5)\n",
    "\n",
    "    def setFolderPath(self):\n",
    "        folder_selected = filedialog.askdirectory()\n",
    "        self.folderPath.set(folder_selected)\n",
    "\n",
    "    @property\n",
    "    def folder_path(self):\n",
    "        return self.folderPath.get()"
   ]
  },
  {
   "cell_type": "code",
   "execution_count": 41,
   "metadata": {},
   "outputs": [],
   "source": [
    "# setting switch function:\n",
    "def switch():\n",
    "    global btnState\n",
    "    if btnState:\n",
    "        btn.config(image=offImg, bg=\"#FBE9C1\", activebackground=\"#FBE9C1\")\n",
    "        window.config(bg=\"#FBE9C1\")\n",
    "        txt.config(text=\"Dark Mode: OFF\", bg=\"#FBE9C1\")\n",
    "\n",
    "        btnState = False\n",
    "\n",
    "\n",
    "    else:\n",
    "        btn.config(image=onImg, bg=\"#2B2B2B\", activebackground=\"#2B2B2B\")\n",
    "        window.config(bg=\"#2B2B2B\")\n",
    "        txt.config(text=\"Dark Mode: ON\", bg=\"#2B2B2B\")\n",
    "        btnState = True"
   ]
  },
  {
   "cell_type": "code",
   "execution_count": 42,
   "metadata": {},
   "outputs": [],
   "source": [
    "deviceManufaktur = os.popen('adb shell getprop ro.product.manufacturer').read()\n",
    "def Manufaktur():\n",
    "    if deviceSerial == '':\n",
    "        label2 = tkinter.Label(window, bg=\"#FBE9C1\", text=\"Tidak ada device\")\n",
    "        label2.place(x=230,y=150)\n",
    "    else:\n",
    "        label2 = tkinter.Label(window, bg=\"#FBE9C1\", text=(deviceManufaktur))\n",
    "        label2.place(x=230,y=150)"
   ]
  },
  {
   "cell_type": "code",
   "execution_count": 43,
   "metadata": {},
   "outputs": [],
   "source": [
    "deviceSerial = os.popen('adb shell getprop ro.serialno').read()\n",
    "def serial():\n",
    "    if deviceSerial == '':\n",
    "        label2 = tkinter.Label(window, bg=\"#FBE9C1\", text=\"Tidak ada device\")\n",
    "        label2.place(x=230,y=200)\n",
    "    else:\n",
    "        label2 = tkinter.Label(window, bg=\"#FBE9C1\", text=(deviceSerial))\n",
    "        label2.place(x=230,y=200)"
   ]
  },
  {
   "cell_type": "code",
   "execution_count": 44,
   "metadata": {},
   "outputs": [],
   "source": [
    "deviceName = os.popen('adb shell getprop ro.product.model').read()\n",
    "def model1():\n",
    "    if deviceName == '':\n",
    "        label2 = tkinter.Label(window, bg=\"#FBE9C1\", text=\"Tidak ada device\")\n",
    "        label2.place(x=630,y=150)\n",
    "    else:\n",
    "        label2 = tkinter.Label(window, bg=\"#FBE9C1\", text=(deviceName))\n",
    "        label2.place(x=630,y=150)"
   ]
  },
  {
   "cell_type": "code",
   "execution_count": 45,
   "metadata": {},
   "outputs": [],
   "source": [
    "deviceNameOs = os.popen('adb shell getprop ro.build.version.sdk').read()\n",
    "def osvir():\n",
    "    if deviceName == '':\n",
    "        label2 = tkinter.Label(window, bg=\"#FBE9C1\", text=\"Tidak ada device\")\n",
    "        label2.place(x=630,y=200)\n",
    "    else:\n",
    "        label2 = tkinter.Label(window, bg=\"#FBE9C1\", text=(deviceNameOs))\n",
    "        label2.place(x=630, y=200)"
   ]
  },
  {
   "cell_type": "code",
   "execution_count": 46,
   "metadata": {},
   "outputs": [],
   "source": [
    "def ikon():\n",
    "    window.destroy()"
   ]
  },
  {
   "cell_type": "code",
   "execution_count": 47,
   "metadata": {},
   "outputs": [],
   "source": [
    "def logo():\n",
    "    window.destroy()"
   ]
  },
  {
   "cell_type": "code",
   "execution_count": 48,
   "metadata": {},
   "outputs": [],
   "source": [
    "def exit1():\n",
    "    MsgBox = tk.messagebox.askquestion('Exit Application', 'Are you sure you want to exit the application',\n",
    "                                       icon='warning')\n",
    "    if MsgBox == 'yes':\n",
    "        window.destroy()\n",
    "    else:\n",
    "        tk.messagebox.showinfo('Return', 'You will now return to the application screen')\n"
   ]
  },
  {
   "cell_type": "code",
   "execution_count": 49,
   "metadata": {},
   "outputs": [],
   "source": [
    "def about():\n",
    "    tkinter.messagebox.showinfo('Team Info', 'Kelompok 3')\n"
   ]
  },
  {
   "cell_type": "code",
   "execution_count": 50,
   "metadata": {},
   "outputs": [],
   "source": [
    "def backup():\n",
    "    folder1 = directory1Select.folder_path.replace(\"/\",\"\\\\\")\n",
    "    MsgBox = tk.messagebox.askquestion('Backup Data', 'Are you sure you want to Backup Data',\n",
    "                                       icon='warning')\n",
    "    if MsgBox == 'yes':\n",
    "        os.system(\"adb backup -apk -shared -all -nosystem -f \\\"\" + folder1 + \"\\\\backup.ab\\\"\")\n",
    "        os.system(\"ab-decrypt \\\"\" + folder1 + \"\\\\backup.ab\\\" \\\"\" + folder1 + \"\\\\backup.tar\\\"\")\n",
    "    else:\n",
    "        tk.messagebox.showinfo('Return', 'You will now return to the application screen')\n"
   ]
  },
  {
   "cell_type": "code",
   "execution_count": 51,
   "metadata": {},
   "outputs": [],
   "source": [
    "def camera():\n",
    "    folder1 = directory1Select.folder_path.replace(\"/\",\"\\\\\")\n",
    "    MsgBox = tk.messagebox.askquestion('Backup Data', 'Are you sure you want to Backup Data',\n",
    "                                       icon='warning')\n",
    "    if MsgBox == 'yes':\n",
    "        os.system(\"adb pull /sdcard/DCIM \" + folder1)\n",
    "    else:\n",
    "        tk.messagebox.showinfo('Return', 'You will now return to the application screen')\n"
   ]
  },
  {
   "cell_type": "code",
   "execution_count": 52,
   "metadata": {},
   "outputs": [],
   "source": [
    "def backup_device():\n",
    "    folder1 = directory1Select.folder_path.replace(\"/\",\"\\\\\")\n",
    "    MsgBox = tk.messagebox.askquestion('Backup Data', 'Are you sure you want to Backup Data',\n",
    "                                       icon='warning')\n",
    "    if MsgBox == 'yes':\n",
    "        os.system(\"adb backup -all -f \\\"\" + folder1 + \"\\\\backup.ab\\\"\")\n",
    "        os.system(\"ab-decrypt \\\"\" + folder1 + \"\\\\backup.ab\\\" \\\"\" + folder1 + \"\\\\backup.tar\\\"\")\n",
    "#         os.system(\"ab-decrypt C:\\Backups\\\\backup.ab C:\\Backups\\\\backup.tar\")\n",
    "    else:\n",
    "        tk.messagebox.showinfo('Return', 'You will now return to the application screen')\n"
   ]
  },
  {
   "cell_type": "code",
   "execution_count": 53,
   "metadata": {},
   "outputs": [],
   "source": [
    "def backup_storage():\n",
    "    folder1 = directory1Select.folder_path.replace(\"/\",\"\\\\\")\n",
    "    MsgBox = tk.messagebox.askquestion('Backup Data', 'Are you sure you want to Backup Data',\n",
    "                                       icon='warning')\n",
    "    if MsgBox == 'yes':\n",
    "        os.system(\"adb backup -noapk -shared -nosystem -f \\\"\" + folder1 + \"\\\\backup.ab\\\"\")\n",
    "        os.system(\"ab-decrypt \\\"\" + folder1 + \"\\\\backup.ab\\\" \\\"\" + folder1 + \"\\\\backup.tar\\\"\")\n",
    "    else:\n",
    "        tk.messagebox.showinfo('Return', 'You will now return to the application screen')\n"
   ]
  },
  {
   "cell_type": "code",
   "execution_count": 54,
   "metadata": {},
   "outputs": [],
   "source": [
    "def backup_system():\n",
    "    folder1 = directory1Select.folder_path.replace(\"/\",\"\\\\\")\n",
    "    MsgBox = tk.messagebox.askquestion('Backup Data', 'Are you sure you want to Backup Data',\n",
    "                                       icon='warning')\n",
    "    if MsgBox == 'yes':\n",
    "        os.system(\"adb backup -apk -shared -all -system -f \\\"\" + folder1 + \"\\\\backup.ab\\\"\")\n",
    "        os.system(\"ab-decrypt \\\"\" + folder1 + \"\\\\backup.ab\\\" \\\"\" + folder1 + \"\\\\backup.tar\\\"\")\n",
    "    else:\n",
    "        tk.messagebox.showinfo('Return', 'You will now return to the application screen')\n"
   ]
  },
  {
   "cell_type": "code",
   "execution_count": 55,
   "metadata": {},
   "outputs": [],
   "source": [
    "labell=Label(window, text=\"SOFTWARE DIGITAL FORENSIK\",fg='blue',relief=\"solid\", bg='yellow', font =(\"arial\", 16, \"bold\")).pack()\n",
    "button1=Button(window,bg=\"#FBE9C1\", image=manufaktur ,border =0, text=\"Manufaktur\", fg='blue', command = Manufaktur)\n",
    "button3=Button(window,bg=\"#FBE9C1\", image=seriall,border =0,text=\"Serial\",command = serial)\n",
    "button2=Button(window,bg=\"#FBE9C1\",image=photo ,border =0, text=\"Model\", command = model1)\n",
    "button4=Button(window,bg=\"#FBE9C1\",image=backupbutton ,border =0, text=\"backuptanpa sistem\", command = backup)\n",
    "button5=Button(window,bg=\"#FBE9C1\",image=backup_devicee ,border =0, text=\"backup_devicee\", command = backup_device)\n",
    "button6=Button(window,bg=\"#FBE9C1\",image=backup_storagee ,border =0, text=\"backup_storagee\", command = backup_storage)\n",
    "button7=Button(window,bg=\"#FBE9C1\",image=backup_systemm ,border =0, text=\"backup_systemm\", command = backup_system)\n",
    "button8=Button(window,bg=\"#FBE9C1\",image= os_vir ,border =0, text=\"backup_systemm\", command = osvir)\n",
    "button9=Button(window,bg=\"#FBE9C1\",image=backupcamera ,border =0, text=\"backup_systemm\", command = camera)"
   ]
  },
  {
   "cell_type": "code",
   "execution_count": 56,
   "metadata": {},
   "outputs": [],
   "source": [
    "b2=Button(window,text=\"Quit\",border=0, image = exitbutton, command = exit1) #button Exit\n",
    "b3=Button(window,text=\"About\",border=0,bg=\"#FBE9C1\",image =aboutt, command = about) #button About\n",
    "b4=Button(window,border=0,bg=\"#FBE9C1\",image = ikonbutton, command = about) #button About"
   ]
  },
  {
   "cell_type": "code",
   "execution_count": 57,
   "metadata": {},
   "outputs": [],
   "source": [
    "folderPath = StringVar()\n",
    "\n",
    "directory1Select = FolderSelect(window, \"Select Folder 1\")\n",
    "directory1Select.place(x=50, y=250)"
   ]
  },
  {
   "cell_type": "code",
   "execution_count": 58,
   "metadata": {},
   "outputs": [],
   "source": [
    "# loading the switch images:\n",
    "onImg = PhotoImage(file=\"asset/switch-on.png\")\n",
    "offImg = PhotoImage(file=\"asset/switch-off.png\")"
   ]
  },
  {
   "cell_type": "code",
   "execution_count": 59,
   "metadata": {},
   "outputs": [],
   "source": [
    "# Night mode label:\n",
    "txt = tk.Label(window, text=\"Dark Mode: OFF\", font=\"FixedSys 17\", bg=\"#FBE9C1\", fg=\"green\")\n",
    "txt.place(relx=0.8, rely=0.1, anchor=\"center\")"
   ]
  },
  {
   "cell_type": "code",
   "execution_count": 60,
   "metadata": {},
   "outputs": [],
   "source": [
    "# switch widget:\n",
    "btn = tk.Button(window, text=\"OFF\", borderwidth=0, command=switch, bg=\"#FBE9C1\", activebackground=\"#FBE9C1\")\n",
    "btn.place(relx=0.8, rely=0.2, anchor=\"center\")\n",
    "btn.config(image=offImg)\n"
   ]
  },
  {
   "cell_type": "code",
   "execution_count": 61,
   "metadata": {},
   "outputs": [],
   "source": [
    "button9.place(x=250, y=350)\n",
    "button7.place(x=450, y=400)\n",
    "button6.place(x=450, y=300)\n",
    "button5.place(x=50, y=400)\n",
    "button4.place(x=50, y=300)\n",
    "button3.place (x=50,y=200)\n",
    "button2.place (x=450,y=150)\n",
    "button8.place (x=450,y=200)\n",
    "button1.place(x=50,y=150)\n",
    "# button10.place(x=250, y=350)\n",
    "b2.place(x=550,y=460)\n",
    "b3.place(x=650, y=460)\n",
    "b4.place(x=50, y=40)"
   ]
  },
  {
   "cell_type": "code",
   "execution_count": null,
   "metadata": {},
   "outputs": [],
   "source": [
    "window.mainloop()"
   ]
  }
 ],
 "metadata": {
  "kernelspec": {
   "display_name": "Python 3",
   "language": "python",
   "name": "python3"
  },
  "language_info": {
   "codemirror_mode": {
    "name": "ipython",
    "version": 3
   },
   "file_extension": ".py",
   "mimetype": "text/x-python",
   "name": "python",
   "nbconvert_exporter": "python",
   "pygments_lexer": "ipython3",
   "version": "3.7.3"
  }
 },
 "nbformat": 4,
 "nbformat_minor": 4
}
